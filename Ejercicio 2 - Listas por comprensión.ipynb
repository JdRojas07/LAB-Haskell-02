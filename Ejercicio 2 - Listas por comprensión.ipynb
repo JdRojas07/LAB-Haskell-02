{
 "cells": [
  {
   "cell_type": "code",
   "execution_count": 2,
   "id": "435899eb-2842-4cb5-896d-5bfd916dad2c",
   "metadata": {
    "tags": []
   },
   "outputs": [
    {
     "data": {
      "text/plain": [
       "[1,4,9,16,25,36,49,64,81,100]"
      ]
     },
     "metadata": {},
     "output_type": "display_data"
    }
   ],
   "source": [
    "[x*x | x <- [1..10]]"
   ]
  },
  {
   "cell_type": "code",
   "execution_count": 5,
   "id": "5ac6f19e-ca49-4d09-801e-a3c29f358544",
   "metadata": {
    "tags": []
   },
   "outputs": [
    {
     "data": {
      "text/plain": [
       "[3,6,9,12,15,18,21,24,27,30]"
      ]
     },
     "metadata": {},
     "output_type": "display_data"
    }
   ],
   "source": [
    "[x|x<-[1..30], mod x 3==0] "
   ]
  },
  {
   "cell_type": "code",
   "execution_count": 6,
   "id": "1ed1c073-e300-4d79-96b4-afdf59a02477",
   "metadata": {
    "tags": []
   },
   "outputs": [
    {
     "data": {
      "text/plain": [
       "[(1,2),(1,3),(1,4),(1,5),(2,3),(2,4),(2,5),(3,4),(3,5),(4,5)]"
      ]
     },
     "metadata": {},
     "output_type": "display_data"
    }
   ],
   "source": [
    "[(x,y)|x<-[1..5], y<-[1..5], x<y]"
   ]
  },
  {
   "cell_type": "code",
   "execution_count": 11,
   "id": "a0c78505-4c85-457a-9e46-81255d51d050",
   "metadata": {
    "tags": []
   },
   "outputs": [
    {
     "data": {
      "text/plain": [
       "[1,3,9]"
      ]
     },
     "metadata": {},
     "output_type": "display_data"
    }
   ],
   "source": [
    "divisores :: Int -> [Int]\n",
    "divisores x  = [y|y<-[1..x], mod x y==0]\n",
    "divisores 9"
   ]
  },
  {
   "cell_type": "code",
   "execution_count": 21,
   "id": "df1bb5a5-c88b-4d07-afbb-7e9dee93c637",
   "metadata": {
    "tags": []
   },
   "outputs": [],
   "source": [
    "divisoresPerfectos :: Int -> [Int]\n",
    "divisoresPerfectos x  = [y|y<-[1..x], mod x y==0, x/=y]"
   ]
  },
  {
   "cell_type": "code",
   "execution_count": 23,
   "id": "d02a5cf2-9cd9-4f87-be5a-f266d9700769",
   "metadata": {
    "tags": []
   },
   "outputs": [
    {
     "data": {
      "text/plain": [
       "True"
      ]
     },
     "metadata": {},
     "output_type": "display_data"
    }
   ],
   "source": [
    "esPerfecto :: Int -> Bool\n",
    "esPerfecto x = sum(divisoresPerfectos x) == x\n",
    "esPerfecto 6"
   ]
  },
  {
   "cell_type": "code",
   "execution_count": null,
   "id": "08549cc0-199a-450c-89d1-e655a354c388",
   "metadata": {},
   "outputs": [],
   "source": []
  }
 ],
 "metadata": {
  "kernelspec": {
   "display_name": "Haskell",
   "language": "haskell",
   "name": "haskell"
  },
  "language_info": {
   "codemirror_mode": "ihaskell",
   "file_extension": ".hs",
   "mimetype": "text/x-haskell",
   "name": "haskell",
   "pygments_lexer": "Haskell",
   "version": "9.6.4"
  }
 },
 "nbformat": 4,
 "nbformat_minor": 5
}
