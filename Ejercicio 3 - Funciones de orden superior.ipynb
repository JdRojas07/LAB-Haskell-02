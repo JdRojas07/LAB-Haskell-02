{
 "cells": [
  {
   "cell_type": "code",
   "execution_count": 5,
   "id": "15e539b5-653d-46db-9b55-7cf4f3248201",
   "metadata": {
    "tags": []
   },
   "outputs": [
    {
     "data": {
      "text/html": [
       "<style>/* Styles used for the Hoogle display in the pager */\n",
       ".hoogle-doc {\n",
       "display: block;\n",
       "padding-bottom: 1.3em;\n",
       "padding-left: 0.4em;\n",
       "}\n",
       ".hoogle-code {\n",
       "display: block;\n",
       "font-family: monospace;\n",
       "white-space: pre;\n",
       "}\n",
       ".hoogle-text {\n",
       "display: block;\n",
       "}\n",
       ".hoogle-name {\n",
       "color: green;\n",
       "font-weight: bold;\n",
       "}\n",
       ".hoogle-head {\n",
       "font-weight: bold;\n",
       "}\n",
       ".hoogle-sub {\n",
       "display: block;\n",
       "margin-left: 0.4em;\n",
       "}\n",
       ".hoogle-package {\n",
       "font-weight: bold;\n",
       "font-style: italic;\n",
       "}\n",
       ".hoogle-module {\n",
       "font-weight: bold;\n",
       "}\n",
       ".hoogle-class {\n",
       "font-weight: bold;\n",
       "}\n",
       "\n",
       ".get-type {\n",
       "color: green;\n",
       "font-weight: bold;\n",
       "font-family: monospace;\n",
       "display: block;\n",
       "white-space: pre-wrap;\n",
       "}\n",
       ".show-type {\n",
       "color: green;\n",
       "font-weight: bold;\n",
       "font-family: monospace;\n",
       "margin-left: 1em;\n",
       "}\n",
       ".mono {\n",
       "font-family: monospace;\n",
       "display: block;\n",
       "}\n",
       ".err-msg {\n",
       "color: red;\n",
       "font-style: italic;\n",
       "font-family: monospace;\n",
       "white-space: pre;\n",
       "display: block;\n",
       "}\n",
       "#unshowable {\n",
       "color: red;\n",
       "font-weight: bold;\n",
       "}\n",
       ".err-msg.in.collapse {\n",
       "padding-top: 0.7em;\n",
       "}\n",
       "\n",
       ".highlight-code {\n",
       "white-space: pre;\n",
       "font-family: monospace;\n",
       "}\n",
       "\n",
       ".suggestion-warning { \n",
       "font-weight: bold;\n",
       "color: rgb(200, 130, 0);\n",
       "}\n",
       ".suggestion-error { \n",
       "font-weight: bold;\n",
       "color: red;\n",
       "}\n",
       ".suggestion-name {\n",
       "font-weight: bold;\n",
       "}\n",
       "\n",
       "</style><div class=\"suggestion-name\" style=\"clear:both;\">Use sum</div><div class=\"suggestion-row\" style=\"float: left;\"><div class=\"suggestion-warning\">Found:</div><div class=\"highlight-code\" id=\"haskell\">foldr (+) 0</div></div><div class=\"suggestion-row\" style=\"float: left;\"><div class=\"suggestion-warning\">Why Not:</div><div class=\"highlight-code\" id=\"haskell\">sum</div></div>"
      ],
      "text/plain": [
       "Line 2: Use sum\n",
       "Found:\n",
       "foldr (+) 0\n",
       "Why not:\n",
       "sum"
      ]
     },
     "metadata": {},
     "output_type": "display_data"
    },
    {
     "data": {
      "text/plain": [
       "18"
      ]
     },
     "metadata": {},
     "output_type": "display_data"
    }
   ],
   "source": [
    "sumaLista :: [Int] -> Int\n",
    "sumaLista= foldr (+) 0\n",
    "sumaLista  [2,6,2,5,3]"
   ]
  },
  {
   "cell_type": "code",
   "execution_count": 6,
   "id": "808c7a2f-8f14-45e5-b084-4ab04f64b9dc",
   "metadata": {
    "tags": []
   },
   "outputs": [
    {
     "data": {
      "text/plain": [
       "3"
      ]
     },
     "metadata": {},
     "output_type": "display_data"
    }
   ],
   "source": [
    "mayoresQue10 :: [Int] -> Int\n",
    "mayoresQue10 xs = length (filter (>10) xs)\n",
    "mayoresQue10 [3,15,8,22,10,11] "
   ]
  },
  {
   "cell_type": "code",
   "execution_count": 7,
   "id": "e0489b86-3336-4881-aa36-802830f801e9",
   "metadata": {
    "tags": []
   },
   "outputs": [
    {
     "data": {
      "text/html": [
       "<style>/* Styles used for the Hoogle display in the pager */\n",
       ".hoogle-doc {\n",
       "display: block;\n",
       "padding-bottom: 1.3em;\n",
       "padding-left: 0.4em;\n",
       "}\n",
       ".hoogle-code {\n",
       "display: block;\n",
       "font-family: monospace;\n",
       "white-space: pre;\n",
       "}\n",
       ".hoogle-text {\n",
       "display: block;\n",
       "}\n",
       ".hoogle-name {\n",
       "color: green;\n",
       "font-weight: bold;\n",
       "}\n",
       ".hoogle-head {\n",
       "font-weight: bold;\n",
       "}\n",
       ".hoogle-sub {\n",
       "display: block;\n",
       "margin-left: 0.4em;\n",
       "}\n",
       ".hoogle-package {\n",
       "font-weight: bold;\n",
       "font-style: italic;\n",
       "}\n",
       ".hoogle-module {\n",
       "font-weight: bold;\n",
       "}\n",
       ".hoogle-class {\n",
       "font-weight: bold;\n",
       "}\n",
       "\n",
       ".get-type {\n",
       "color: green;\n",
       "font-weight: bold;\n",
       "font-family: monospace;\n",
       "display: block;\n",
       "white-space: pre-wrap;\n",
       "}\n",
       ".show-type {\n",
       "color: green;\n",
       "font-weight: bold;\n",
       "font-family: monospace;\n",
       "margin-left: 1em;\n",
       "}\n",
       ".mono {\n",
       "font-family: monospace;\n",
       "display: block;\n",
       "}\n",
       ".err-msg {\n",
       "color: red;\n",
       "font-style: italic;\n",
       "font-family: monospace;\n",
       "white-space: pre;\n",
       "display: block;\n",
       "}\n",
       "#unshowable {\n",
       "color: red;\n",
       "font-weight: bold;\n",
       "}\n",
       ".err-msg.in.collapse {\n",
       "padding-top: 0.7em;\n",
       "}\n",
       "\n",
       ".highlight-code {\n",
       "white-space: pre;\n",
       "font-family: monospace;\n",
       "}\n",
       "\n",
       ".suggestion-warning { \n",
       "font-weight: bold;\n",
       "color: rgb(200, 130, 0);\n",
       "}\n",
       ".suggestion-error { \n",
       "font-weight: bold;\n",
       "color: red;\n",
       "}\n",
       ".suggestion-name {\n",
       "font-weight: bold;\n",
       "}\n",
       "\n",
       "</style><div class=\"suggestion-name\" style=\"clear:both;\">Use product</div><div class=\"suggestion-row\" style=\"float: left;\"><div class=\"suggestion-warning\">Found:</div><div class=\"highlight-code\" id=\"haskell\">foldr (*) 1</div></div><div class=\"suggestion-row\" style=\"float: left;\"><div class=\"suggestion-warning\">Why Not:</div><div class=\"highlight-code\" id=\"haskell\">product</div></div>"
      ],
      "text/plain": [
       "Line 2: Use product\n",
       "Found:\n",
       "foldr (*) 1\n",
       "Why not:\n",
       "product"
      ]
     },
     "metadata": {},
     "output_type": "display_data"
    },
    {
     "data": {
      "text/plain": [
       "24"
      ]
     },
     "metadata": {},
     "output_type": "display_data"
    }
   ],
   "source": [
    "productoLista :: [Int] -> Int\n",
    "productoLista = foldr (*) 1\n",
    "productoLista [2,3,4]"
   ]
  },
  {
   "cell_type": "code",
   "execution_count": 10,
   "id": "c4b7d93c-8eaa-45d5-9e2e-a6468be541c5",
   "metadata": {
    "tags": []
   },
   "outputs": [
    {
     "data": {
      "text/plain": [
       "[32.0,68.0,212.0]"
      ]
     },
     "metadata": {},
     "output_type": "display_data"
    }
   ],
   "source": [
    "celsiusAFahrenheit :: [Double] -> [Double]\n",
    "celsiusAFahrenheit = map (\\c -> c * 1.8 + 32)\n",
    "celsiusAFahrenheit [0, 20,100]"
   ]
  },
  {
   "cell_type": "code",
   "execution_count": 11,
   "id": "dffb881b-73c2-4997-a089-8b9d80b8ad36",
   "metadata": {
    "tags": []
   },
   "outputs": [
    {
     "data": {
      "text/plain": [
       "[6,2,8,4,10]"
      ]
     },
     "metadata": {},
     "output_type": "display_data"
    }
   ],
   "source": [
    "ajustarImpares :: [Int] -> [Int]\n",
    "ajustarImpares = map (\\x -> if odd x then x + 5 else x)\n",
    "ajustarImpares [1,2,3,4,5]"
   ]
  },
  {
   "cell_type": "code",
   "execution_count": 12,
   "id": "4c49c3ca-e2c8-48bb-a8c3-da96c2e706a9",
   "metadata": {
    "tags": []
   },
   "outputs": [
    {
     "data": {
      "text/plain": [
       "[\"Andres\",\"Joseph\",\"Nicole\"]"
      ]
     },
     "metadata": {},
     "output_type": "display_data"
    }
   ],
   "source": [
    "nombresLargos :: [String] -> [String]\n",
    "nombresLargos = filter (\\nombre -> length nombre > 5)\n",
    "nombresLargos [\"Juan\", \"David\", \"Andres\", \"Joseph\", \"Nicole\"]"
   ]
  },
  {
   "cell_type": "code",
   "execution_count": 13,
   "id": "a025c7ac-1bf0-4236-b715-f840ebaf1f32",
   "metadata": {
    "tags": []
   },
   "outputs": [
    {
     "data": {
      "text/plain": [
       "[-2,-7,-1]"
      ]
     },
     "metadata": {},
     "output_type": "display_data"
    }
   ],
   "source": [
    "soloNegativos :: [Int] -> [Int]\n",
    "soloNegativos = filter (<0)\n",
    "soloNegativos [3, -2, 0, -7, 5, -1]"
   ]
  },
  {
   "cell_type": "code",
   "execution_count": 14,
   "id": "68c3a40c-b801-4c3d-80c7-15da3ab871d4",
   "metadata": {
    "tags": []
   },
   "outputs": [
    {
     "data": {
      "text/plain": [
       "[18,20,25]"
      ]
     },
     "metadata": {},
     "output_type": "display_data"
    }
   ],
   "source": [
    "edadesUniversitarios :: [Int] -> [Int]\n",
    "edadesUniversitarios = filter (\\edad -> edad >= 18 && edad <= 25)\n",
    "edadesUniversitarios [16,18,20,25,27,30]"
   ]
  },
  {
   "cell_type": "code",
   "execution_count": 15,
   "id": "e67f4574-1642-456d-ac00-2ad6fba9c562",
   "metadata": {
    "tags": []
   },
   "outputs": [
    {
     "data": {
      "text/plain": [
       "[500.0,1428.0,800.0,2380.0]"
      ]
     },
     "metadata": {},
     "output_type": "display_data"
    }
   ],
   "source": [
    "agregarIVA :: [Double] -> [Double]\n",
    "agregarIVA = map (\\p -> if p >= 1000 then p * 1.19 else p)\n",
    "agregarIVA [500, 1200, 800, 2000]"
   ]
  },
  {
   "cell_type": "code",
   "execution_count": 17,
   "id": "fdd179fa-f535-4378-87e6-038811873f17",
   "metadata": {
    "tags": []
   },
   "outputs": [
    {
     "data": {
      "text/plain": [
       "[3,5,4]"
      ]
     },
     "metadata": {},
     "output_type": "display_data"
    }
   ],
   "source": [
    "longitudesVocales :: [String] -> [Int]\n",
    "longitudesVocales [] = []\n",
    "longitudesVocales xs = map length (filter (\\palabra -> head palabra `elem` \"aeiouAEIOU\") xs)\n",
    "longitudesVocales [\"Oso\", \"Casa\", \"Abeja\", \"burro\", \"azul\", \"negro\"]"
   ]
  },
  {
   "cell_type": "code",
   "execution_count": 18,
   "id": "e45a18ce-152b-45fc-bce9-2fac24f090c5",
   "metadata": {
    "tags": []
   },
   "outputs": [
    {
     "data": {
      "text/plain": [
       "[4,16,36,10000]"
      ]
     },
     "metadata": {},
     "output_type": "display_data"
    }
   ],
   "source": [
    "cuadradosPares :: [Int] -> [Int]\n",
    "cuadradosPares = map (^2) . filter even\n",
    "cuadradosPares [1,2,3,4,5,6,100]"
   ]
  },
  {
   "cell_type": "code",
   "execution_count": 19,
   "id": "d809ac0a-d3aa-45b1-93d4-18e952b34fe2",
   "metadata": {
    "tags": []
   },
   "outputs": [
    {
     "data": {
      "text/plain": [
       "True"
      ]
     },
     "metadata": {},
     "output_type": "display_data"
    },
    {
     "data": {
      "text/plain": [
       "False"
      ]
     },
     "metadata": {},
     "output_type": "display_data"
    }
   ],
   "source": [
    "hayNegativo :: [Int] -> Bool\n",
    "hayNegativo = any (<0)\n",
    "hayNegativo [3, 5, -2, 7]\n",
    "hayNegativo [1, 4, 9]"
   ]
  },
  {
   "cell_type": "code",
   "execution_count": 20,
   "id": "0d67469e-787c-4288-ad12-8ad90f7809bc",
   "metadata": {
    "tags": []
   },
   "outputs": [
    {
     "data": {
      "text/plain": [
       "True"
      ]
     },
     "metadata": {},
     "output_type": "display_data"
    },
    {
     "data": {
      "text/plain": [
       "False"
      ]
     },
     "metadata": {},
     "output_type": "display_data"
    }
   ],
   "source": [
    "todosPares :: [Int] -> Bool\n",
    "todosPares = all even\n",
    "todosPares [2, 4, 6, 8]\n",
    "todosPares [2, 3, 6]"
   ]
  },
  {
   "cell_type": "code",
   "execution_count": 22,
   "id": "d69b4d50-ab58-459c-8400-82530a5b9506",
   "metadata": {
    "tags": []
   },
   "outputs": [
    {
     "data": {
      "text/html": [
       "<style>/* Styles used for the Hoogle display in the pager */\n",
       ".hoogle-doc {\n",
       "display: block;\n",
       "padding-bottom: 1.3em;\n",
       "padding-left: 0.4em;\n",
       "}\n",
       ".hoogle-code {\n",
       "display: block;\n",
       "font-family: monospace;\n",
       "white-space: pre;\n",
       "}\n",
       ".hoogle-text {\n",
       "display: block;\n",
       "}\n",
       ".hoogle-name {\n",
       "color: green;\n",
       "font-weight: bold;\n",
       "}\n",
       ".hoogle-head {\n",
       "font-weight: bold;\n",
       "}\n",
       ".hoogle-sub {\n",
       "display: block;\n",
       "margin-left: 0.4em;\n",
       "}\n",
       ".hoogle-package {\n",
       "font-weight: bold;\n",
       "font-style: italic;\n",
       "}\n",
       ".hoogle-module {\n",
       "font-weight: bold;\n",
       "}\n",
       ".hoogle-class {\n",
       "font-weight: bold;\n",
       "}\n",
       "\n",
       ".get-type {\n",
       "color: green;\n",
       "font-weight: bold;\n",
       "font-family: monospace;\n",
       "display: block;\n",
       "white-space: pre-wrap;\n",
       "}\n",
       ".show-type {\n",
       "color: green;\n",
       "font-weight: bold;\n",
       "font-family: monospace;\n",
       "margin-left: 1em;\n",
       "}\n",
       ".mono {\n",
       "font-family: monospace;\n",
       "display: block;\n",
       "}\n",
       ".err-msg {\n",
       "color: red;\n",
       "font-style: italic;\n",
       "font-family: monospace;\n",
       "white-space: pre;\n",
       "display: block;\n",
       "}\n",
       "#unshowable {\n",
       "color: red;\n",
       "font-weight: bold;\n",
       "}\n",
       ".err-msg.in.collapse {\n",
       "padding-top: 0.7em;\n",
       "}\n",
       "\n",
       ".highlight-code {\n",
       "white-space: pre;\n",
       "font-family: monospace;\n",
       "}\n",
       "\n",
       ".suggestion-warning { \n",
       "font-weight: bold;\n",
       "color: rgb(200, 130, 0);\n",
       "}\n",
       ".suggestion-error { \n",
       "font-weight: bold;\n",
       "color: red;\n",
       "}\n",
       ".suggestion-name {\n",
       "font-weight: bold;\n",
       "}\n",
       "\n",
       "</style><div class=\"suggestion-name\" style=\"clear:both;\">Avoid lambda</div><div class=\"suggestion-row\" style=\"float: left;\"><div class=\"suggestion-warning\">Found:</div><div class=\"highlight-code\" id=\"haskell\">\\ nombre -> isUpper (head nombre)</div></div><div class=\"suggestion-row\" style=\"float: left;\"><div class=\"suggestion-warning\">Why Not:</div><div class=\"highlight-code\" id=\"haskell\">isUpper . head</div></div>"
      ],
      "text/plain": [
       "Line 4: Avoid lambda\n",
       "Found:\n",
       "\\ nombre -> isUpper (head nombre)\n",
       "Why not:\n",
       "isUpper . head"
      ]
     },
     "metadata": {},
     "output_type": "display_data"
    },
    {
     "data": {
      "text/plain": [
       "True"
      ]
     },
     "metadata": {},
     "output_type": "display_data"
    },
    {
     "data": {
      "text/plain": [
       "False"
      ]
     },
     "metadata": {},
     "output_type": "display_data"
    }
   ],
   "source": [
    "import Data.Char (isUpper)\n",
    "\n",
    "nombresCorrectos :: [String] -> Bool\n",
    "nombresCorrectos = all (\\nombre -> isUpper (head nombre))\n",
    "nombresCorrectos [\"Juan\", \"Pedro\"]\n",
    "nombresCorrectos [\"juan\", \"Pedro\"]"
   ]
  },
  {
   "cell_type": "code",
   "execution_count": 25,
   "id": "1e81e1ed-4dba-4a46-8a04-1c04442eb71e",
   "metadata": {
    "tags": []
   },
   "outputs": [
    {
     "data": {
      "text/plain": [
       "[10,50,99]"
      ]
     },
     "metadata": {},
     "output_type": "display_data"
    }
   ],
   "source": [
    "menoresQue100 :: [Int] -> [Int]\n",
    "menoresQue100 = takeWhile (<100)\n",
    "menoresQue100 [10, 50, 99, 100, 80, 60]"
   ]
  },
  {
   "cell_type": "code",
   "execution_count": 26,
   "id": "4b368fe6-e2af-4609-bfe0-2671e14de3f7",
   "metadata": {
    "tags": []
   },
   "outputs": [
    {
     "data": {
      "text/plain": [
       "[5,0,3]"
      ]
     },
     "metadata": {},
     "output_type": "display_data"
    }
   ],
   "source": [
    "sinCerosIniciales :: [Int] -> [Int]\n",
    "sinCerosIniciales = dropWhile (==0)\n",
    "sinCerosIniciales [0,0,0,5,0,3]"
   ]
  },
  {
   "cell_type": "code",
   "execution_count": null,
   "id": "c7ae4fdc-b454-4a24-8275-206f181bb1b7",
   "metadata": {},
   "outputs": [],
   "source": []
  }
 ],
 "metadata": {
  "kernelspec": {
   "display_name": "Haskell",
   "language": "haskell",
   "name": "haskell"
  },
  "language_info": {
   "codemirror_mode": "ihaskell",
   "file_extension": ".hs",
   "mimetype": "text/x-haskell",
   "name": "haskell",
   "pygments_lexer": "Haskell",
   "version": "9.6.4"
  }
 },
 "nbformat": 4,
 "nbformat_minor": 5
}
